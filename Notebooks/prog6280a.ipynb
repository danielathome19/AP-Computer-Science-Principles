{
 "cells": [
  {
   "metadata": {},
   "cell_type": "markdown",
   "source": "# Prog6280a - Jobs in Data Science",
   "id": "5610dd72558eebae"
  },
  {
   "cell_type": "code",
   "id": "initial_id",
   "metadata": {
    "collapsed": true
   },
   "source": [
    "%pip install pandas seaborn matplotlib -q\n",
    "import pandas as pd\n",
    "import seaborn as sns\n",
    "import matplotlib.pyplot as plt"
   ],
   "outputs": [],
   "execution_count": null
  },
  {
   "metadata": {},
   "cell_type": "code",
   "source": [
    "# Read dataset into dataframe\n",
    "df = pd.read_csv('../data/jobs_in_data_science.csv')\n",
    "df.columns = df.columns.str.strip()  # Get rid of trailing spaces in column names\n",
    "df"
   ],
   "id": "e54a33d6e967d226",
   "outputs": [],
   "execution_count": null
  },
  {
   "metadata": {},
   "cell_type": "code",
   "source": "df.info()",
   "id": "e4fdb676c82b2ead",
   "outputs": [],
   "execution_count": null
  },
  {
   "metadata": {},
   "cell_type": "code",
   "source": "df.describe()",
   "id": "ab534a8f8df41090",
   "outputs": [],
   "execution_count": null
  },
  {
   "metadata": {},
   "cell_type": "markdown",
   "source": "## Task 1: Salary Trends Over Time",
   "id": "4306553a48a739ac"
  },
  {
   "metadata": {},
   "cell_type": "code",
   "source": [
    "avg_salary_by_year = df.groupby('work_year')['salary_in_usd'].mean()\n",
    "plt.figure(figsize=(10,6))  # 10in x 6in\n",
    "avg_salary_by_year.plot(kind='line', marker='o')\n",
    "plt.title('Average Salary in Data Science Over Time')\n",
    "plt.xlabel('Year')\n",
    "plt.ylabel('Average Salary (USD)')\n",
    "plt.grid(True)\n",
    "plt.show()"
   ],
   "id": "7f31ae68789ea65f",
   "outputs": [],
   "execution_count": null
  },
  {
   "metadata": {},
   "cell_type": "markdown",
   "source": "The average salary in data science has shown an upward trend over the years, indicating a growing value in the field.",
   "id": "87939da1b44e0577"
  }
 ],
 "metadata": {
  "kernelspec": {
   "display_name": "Python 3",
   "language": "python",
   "name": "python3"
  },
  "language_info": {
   "codemirror_mode": {
    "name": "ipython",
    "version": 2
   },
   "file_extension": ".py",
   "mimetype": "text/x-python",
   "name": "python",
   "nbconvert_exporter": "python",
   "pygments_lexer": "ipython2",
   "version": "2.7.6"
  }
 },
 "nbformat": 4,
 "nbformat_minor": 5
}
